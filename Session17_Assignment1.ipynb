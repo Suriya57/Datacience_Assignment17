{
 "cells": [
  {
   "cell_type": "code",
   "execution_count": 2,
   "metadata": {},
   "outputs": [
    {
     "name": "stdout",
     "output_type": "stream",
     "text": [
      "3.2\n",
      "There is raw corn starch effect\n"
     ]
    }
   ],
   "source": [
    "#Blood glucose levels for obese patients have a mean of 100 with a standard deviation of 15. A researcher thinks that a diet high in raw cornstarch will have a positive effect on\n",
    "#blood glucose levels. A sample of 36 patients who have tried the raw cornstarch diet have a mean glucose level of 108. Test the hypothesis that the raw cornstarch had an effect or not.\n",
    "\n",
    "import matplotlib.pyplot as plt\n",
    "import scipy\n",
    "import scipy.stats as st\n",
    "from scipy.special import factorial\n",
    "import math\n",
    "import numpy as np\n",
    "%matplotlib inline\n",
    "\n",
    "# Null hypothesis: H0 =100\n",
    "# Alternate hypothesis: H1:≠100\n",
    "# Alpha = 0.05 (Two tailed test hence 0.05/2 = 0.025)\n",
    "\n",
    "z = (108-100)/((15/math.sqrt(36)))\n",
    "print(z)\n",
    "\n",
    "# From Z table,  p-value associated with 3.20 is 0.9993 hence the probability of having value less than 108 is 0.9993 \n",
    "# Probablity of having value more than 108 is (1-0.9993)=0.0007.\n",
    "# We can infer that 0.0007 is very less than 0.05 so we can reject the null hypothesis.\n",
    "print(\"There is raw corn starch effect\")"
   ]
  },
  {
   "cell_type": "code",
   "execution_count": 19,
   "metadata": {},
   "outputs": [
    {
     "name": "stdout",
     "output_type": "stream",
     "text": [
      "The standard deviation is : 0.0706\n",
      "The Z value is : -0.70803\n",
      "We can get the probablity from the Z table using the above Z value\n",
      "The probability of greater percentage of Republican voters in the second state than in the first state is 0.24\n"
     ]
    }
   ],
   "source": [
    "#In one state, 52% of the voters are Republicans, and 48% are Democrats. In a second state, 47% of the voters are Republicans, and 53% are Democrats. Suppose a simple\n",
    "#random sample of 100 voters are surveyed from each state.What is the probability that the survey will show a greater percentage of Republican\n",
    "#voters in the second state than in the first state?\n",
    "\n",
    "p1 = 0.52\n",
    "p2 = 0.47\n",
    "\n",
    "# mean_difference = p1 - p2 = 0.05\n",
    "mean = 0.05\n",
    "# std_dev = sqrt{[p1 * (1-p1)/n1] + [p2 * (1-p2)/n2])\n",
    "std_dev = math.sqrt((0.52*0.48/100) + (0.47 * 0.53/100))\n",
    "print(\"The standard deviation is : %.4f\"%std_dev)\n",
    "# Calculating the Z value\n",
    "z = (0-0.05)/std_dev\n",
    "print(\"The Z value is : %.5f\"%z)\n",
    "print(\"We can get the probablity from the Z table using the above Z value\")\n",
    "print(\"The probability of greater percentage of Republican voters in the second state than in the first state is 0.24\")"
   ]
  },
  {
   "cell_type": "code",
   "execution_count": 22,
   "metadata": {},
   "outputs": [
    {
     "name": "stdout",
     "output_type": "stream",
     "text": [
      "0.35406698564593303\n",
      "Hence 63.68% of candidates have performed less than me!\n"
     ]
    }
   ],
   "source": [
    "#You take the SAT and score 1100. The mean score for the SAT is 1026 and the standard deviation is 209. How well did you score on the test compared to the average test taker?\n",
    "\n",
    "z = (1100 - 1026)/209\n",
    "print(z)\n",
    "# Looking at the Z table we get the value of 0.6368\n",
    "print(\"Hence the performance is better than 63.68% of the candidates\")\n"
   ]
  }
 ],
 "metadata": {
  "kernelspec": {
   "display_name": "Python 3",
   "language": "python",
   "name": "python3"
  },
  "language_info": {
   "codemirror_mode": {
    "name": "ipython",
    "version": 3
   },
   "file_extension": ".py",
   "mimetype": "text/x-python",
   "name": "python",
   "nbconvert_exporter": "python",
   "pygments_lexer": "ipython3",
   "version": "3.6.1"
  }
 },
 "nbformat": 4,
 "nbformat_minor": 2
}
